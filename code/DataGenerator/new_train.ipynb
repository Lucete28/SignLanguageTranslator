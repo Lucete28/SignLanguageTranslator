{
 "cells": [
  {
   "cell_type": "code",
   "execution_count": 1,
   "metadata": {},
   "outputs": [],
   "source": [
    "import os\n",
    "import numpy as np\n",
    "import tensorflow as tf\n",
    "from sklearn.model_selection import train_test_split\n",
    "from tqdm import tqdm\n",
    "# GPU 메모리 증가 허용 설정\n",
    "gpus = tf.config.experimental.list_physical_devices('GPU')\n",
    "if gpus:\n",
    "    try:\n",
    "        # 현재 GPU에 대해 메모리 증가 허용 설정\n",
    "        for gpu in gpus:\n",
    "            tf.config.experimental.set_memory_growth(gpu, True)\n",
    "    except RuntimeError as e:\n",
    "        # 프로그램 시작시에 메모리 증가 설정을 해야만 합니다\n",
    "        print('err',e)\n"
   ]
  },
  {
   "cell_type": "code",
   "execution_count": 2,
   "metadata": {},
   "outputs": [
    {
     "name": "stdout",
     "output_type": "stream",
     "text": [
      "1991 개의 단어가 저장되어있음\n"
     ]
    },
    {
     "name": "stderr",
     "output_type": "stream",
     "text": [
      "100%|██████████| 1991/1991 [00:39<00:00, 50.86it/s]\n"
     ]
    },
    {
     "name": "stdout",
     "output_type": "stream",
     "text": [
      "X_train.shape: (896937, 30, 257)\n",
      "X_test.shape: (224235, 30, 257)\n",
      "y_train.shape: (896937,)\n",
      "y_test.shape: (224235,)\n"
     ]
    }
   ],
   "source": [
    "# 데이터 디렉토리와 클래스 정의\n",
    "data_dir = 'C:/Users/oem/Desktop/jhy/new_dataset'  # 데이터가 저장된 폴더 경로\n",
    "classes = sorted(os.listdir(data_dir))  # 폴더 이름을 기준으로 클래스 리스트 생성\n",
    "num_classes = len(classes)\n",
    "print(num_classes, '개의 단어가 저장되어있음')\n",
    "sequence_length = 30\n",
    "\n",
    "# 시퀀스 변환 함수\n",
    "def prepare_sequences_from_array(array, sequence_length=30):\n",
    "    data = np.asarray(array).astype(np.float16)\n",
    "    sequences = []\n",
    "    for i in range(len(data) - sequence_length):\n",
    "        sequence = data[i:i + sequence_length]\n",
    "        sequences.append(sequence)\n",
    "    return np.array(sequences)\n",
    "\n",
    "# 데이터 읽기 함수\n",
    "def load_data_from_directory(base_dir):\n",
    "    \"\"\"폴더 구조를 순회하며 각 클래스별 데이터를 수집합니다.\"\"\"\n",
    "    all_data = []\n",
    "    all_labels = []\n",
    "    for class_idx, class_name in tqdm(enumerate(classes), total=len(classes)):\n",
    "        class_dir = os.path.join(base_dir, class_name)\n",
    "        if os.path.isdir(class_dir):\n",
    "            for filename in os.listdir(class_dir):\n",
    "                if filename.endswith('.npy'):\n",
    "                    file_path = os.path.join(class_dir, filename)\n",
    "                    data = np.load(file_path)  # 데이터 배열 추출\n",
    "                    sequences = prepare_sequences_from_array(data, sequence_length)\n",
    "                    all_data.append(sequences)\n",
    "                    all_labels.extend([class_idx] * len(sequences))  # 각 시퀀스마다 레이블 추가\n",
    "                    break  # 동일 폴더에 여러 개 포함 시 하나만 취급\n",
    "    return np.concatenate(all_data), np.array(all_labels)\n",
    "\n",
    "# 데이터를 메모리로 불러오기\n",
    "data, labels = load_data_from_directory(data_dir)\n",
    "\n",
    "# 학습 및 테스트 데이터 분할\n",
    "X_train, X_test, y_train, y_test = train_test_split(data, labels, test_size=0.2, random_state=42)\n",
    "\n",
    "# 결과 출력\n",
    "print(f\"X_train.shape: {X_train.shape}\")\n",
    "print(f\"X_test.shape: {X_test.shape}\")\n",
    "print(f\"y_train.shape: {y_train.shape}\")\n",
    "print(f\"y_test.shape: {y_test.shape}\")\n",
    "\n"
   ]
  },
  {
   "cell_type": "code",
   "execution_count": 3,
   "metadata": {},
   "outputs": [
    {
     "name": "stdout",
     "output_type": "stream",
     "text": [
      "No NaN values found in X_train or y_train.\n"
     ]
    }
   ],
   "source": [
    "nan_indices_and_labels = []\n",
    "\n",
    "# X_train에서 NaN 값이 있는 인덱스 추적\n",
    "for index, sample in enumerate(X_train):\n",
    "    if np.isnan(sample).any():\n",
    "        nan_indices_and_labels.append((index, y_train[index]))\n",
    "\n",
    "# y_train 자체에 NaN이 있는지 확인\n",
    "for index, label in enumerate(y_train):\n",
    "    if np.isnan(label):\n",
    "        nan_indices_and_labels.append((index, label))\n",
    "\n",
    "# NaN이 포함된 샘플과 레이블 출력\n",
    "if nan_indices_and_labels:\n",
    "    print(\"Samples with NaN values:\")\n",
    "    for index, label in nan_indices_and_labels:\n",
    "        print(f\"Index: {index}, Label: {label}\")\n",
    "else:\n",
    "    print(\"No NaN values found in X_train or y_train.\")"
   ]
  },
  {
   "cell_type": "code",
   "execution_count": 4,
   "metadata": {},
   "outputs": [
    {
     "data": {
      "text/plain": [
       "0"
      ]
     },
     "execution_count": 4,
     "metadata": {},
     "output_type": "execute_result"
    }
   ],
   "source": [
    "len(nan_indices_and_labels)"
   ]
  },
  {
   "cell_type": "code",
   "execution_count": 5,
   "metadata": {},
   "outputs": [],
   "source": [
    "# 모델 구성\n",
    "model = tf.keras.Sequential([\n",
    "    tf.keras.layers.LSTM(1024, input_shape=(sequence_length, data.shape[2])), # 30.257\n",
    "    tf.keras.layers.Dropout(0.2),\n",
    "    tf.keras.layers.Dense(num_classes, activation='softmax')\n",
    "])\n",
    "\n",
    "# 모델 컴파일\n",
    "model.compile(optimizer='adam', loss=tf.keras.losses.SparseCategoricalCrossentropy(from_logits=False), metrics=['accuracy'])\n"
   ]
  },
  {
   "cell_type": "code",
   "execution_count": 6,
   "metadata": {},
   "outputs": [],
   "source": [
    "batch_size = 2048\n",
    "# 제너레이터 함수 정의\n",
    "def data_generator(X, y, batch_size):\n",
    "    num_samples = len(X)\n",
    "    indices = np.arange(num_samples)\n",
    "    np.random.shuffle(indices)\n",
    "    for start_idx in range(0, num_samples, batch_size):\n",
    "        end_idx = min(start_idx + batch_size, num_samples)\n",
    "        batch_indices = indices[start_idx:end_idx]\n",
    "        yield X[batch_indices], y[batch_indices]\n",
    "\n",
    "# `output_signature`를 모델의 입력 형태에 맞게 지정\n",
    "train_dataset = tf.data.Dataset.from_generator(\n",
    "    lambda: data_generator(X_train, y_train, batch_size),\n",
    "    output_signature=(\n",
    "        tf.TensorSpec(shape=(None, 30, 257), dtype=tf.float32),\n",
    "        tf.TensorSpec(shape=(None,), dtype=tf.int64)\n",
    "    )\n",
    ").prefetch(buffer_size=tf.data.experimental.AUTOTUNE)\n",
    "\n",
    "test_dataset = tf.data.Dataset.from_generator(\n",
    "    lambda: data_generator(X_test, y_test, batch_size),\n",
    "    output_signature=(\n",
    "        tf.TensorSpec(shape=(None, 30, 257), dtype=tf.float32),\n",
    "        tf.TensorSpec(shape=(None,), dtype=tf.int64)\n",
    "    )\n",
    ").prefetch(buffer_size=tf.data.experimental.AUTOTUNE)"
   ]
  },
  {
   "cell_type": "code",
   "execution_count": 7,
   "metadata": {},
   "outputs": [
    {
     "name": "stdout",
     "output_type": "stream",
     "text": [
      "Epoch 1/10\n",
      "438/438 [==============================] - 79s 169ms/step - loss: 0.7573 - accuracy: 0.8925 - val_loss: 0.0347 - val_accuracy: 0.9957\n",
      "Epoch 2/10\n",
      "438/438 [==============================] - 73s 167ms/step - loss: 0.0207 - accuracy: 0.9977 - val_loss: 0.0114 - val_accuracy: 0.9987\n",
      "Epoch 3/10\n",
      "438/438 [==============================] - 74s 168ms/step - loss: 0.0072 - accuracy: 0.9992 - val_loss: 0.0073 - val_accuracy: 0.9990\n",
      "Epoch 4/10\n",
      "438/438 [==============================] - 73s 167ms/step - loss: 0.0046 - accuracy: 0.9995 - val_loss: 0.0051 - val_accuracy: 0.9992\n",
      "Epoch 5/10\n",
      "438/438 [==============================] - 73s 168ms/step - loss: 0.0056 - accuracy: 0.9994 - val_loss: 0.0043 - val_accuracy: 0.9995\n",
      "Epoch 6/10\n",
      "438/438 [==============================] - 73s 167ms/step - loss: 0.0043 - accuracy: 0.9995 - val_loss: 0.0075 - val_accuracy: 0.9989\n",
      "Epoch 7/10\n",
      "438/438 [==============================] - 73s 167ms/step - loss: 0.0113 - accuracy: 0.9987 - val_loss: 0.0097 - val_accuracy: 0.9987\n",
      "Epoch 8/10\n",
      "438/438 [==============================] - 73s 167ms/step - loss: 0.0065 - accuracy: 0.9991 - val_loss: 0.0049 - val_accuracy: 0.9992\n",
      "Epoch 9/10\n",
      "438/438 [==============================] - 73s 167ms/step - loss: 0.0048 - accuracy: 0.9993 - val_loss: 0.0032 - val_accuracy: 0.9994\n",
      "Epoch 10/10\n",
      "438/438 [==============================] - 73s 167ms/step - loss: 0.0045 - accuracy: 0.9993 - val_loss: 0.0047 - val_accuracy: 0.9991\n",
      "Model: \"sequential\"\n",
      "_________________________________________________________________\n",
      " Layer (type)                Output Shape              Param #   \n",
      "=================================================================\n",
      " lstm (LSTM)                 (None, 1024)              5251072   \n",
      "                                                                 \n",
      " dropout (Dropout)           (None, 1024)              0         \n",
      "                                                                 \n",
      " dense (Dense)               (None, 1991)              2040775   \n",
      "                                                                 \n",
      "=================================================================\n",
      "Total params: 7,291,847\n",
      "Trainable params: 7,291,847\n",
      "Non-trainable params: 0\n",
      "_________________________________________________________________\n"
     ]
    }
   ],
   "source": [
    "import matplotlib.pyplot as plt\n",
    "\n",
    "# 학습\n",
    "history = model.fit(train_dataset, epochs=10, validation_data=test_dataset)\n",
    "# fn.noti_print(f'학습 종료됨')\n",
    "\n",
    "# 모델 요약\n",
    "model.summary()"
   ]
  },
  {
   "cell_type": "code",
   "execution_count": 8,
   "metadata": {},
   "outputs": [],
   "source": [
    "model.save(\"TEST1991.h5\")"
   ]
  },
  {
   "cell_type": "code",
   "execution_count": 5,
   "metadata": {},
   "outputs": [],
   "source": [
    "# 모델 구성\n",
    "model = tf.keras.Sequential([\n",
    "    # 첫 번째 LSTM 레이어\n",
    "    tf.keras.layers.LSTM(512, return_sequences=True, input_shape=(sequence_length, data.shape[2])),\n",
    "    tf.keras.layers.Dropout(0.1),\n",
    "    \n",
    "    # 두 번째 LSTM 레이어\n",
    "    tf.keras.layers.LSTM(512),\n",
    "    tf.keras.layers.Dropout(0.1),\n",
    "    \n",
    "    # 세 번째 Dense 레이어\n",
    "    tf.keras.layers.Dense(256, activation='relu'),\n",
    "    # tf.keras.layers.Dropout(0.2),\n",
    "\n",
    "    # 출력층\n",
    "    tf.keras.layers.Dense(num_classes, activation='softmax')\n",
    "])\n",
    "\n",
    "# 모델 컴파일\n",
    "model.compile(optimizer='adam', loss=tf.keras.losses.SparseCategoricalCrossentropy(from_logits=False), metrics=['accuracy'])\n"
   ]
  },
  {
   "cell_type": "code",
   "execution_count": 17,
   "metadata": {},
   "outputs": [],
   "source": [
    "from filenoti import filenoti as fn #라인 알림\n",
    "\n",
    "class PrintEpochEndCallback(tf.keras.callbacks.Callback):\n",
    "    def on_epoch_end(self, epoch, logs=None):\n",
    "        fn.noti_print(f'{epoch} 종료됨')"
   ]
  },
  {
   "cell_type": "code",
   "execution_count": 6,
   "metadata": {},
   "outputs": [
    {
     "name": "stdout",
     "output_type": "stream",
     "text": [
      "Epoch 1/350\n"
     ]
    },
    {
     "ename": "ValueError",
     "evalue": "in user code:\n\n    File \"c:\\Users\\oem\\anaconda3\\lib\\site-packages\\keras\\engine\\training.py\", line 1021, in train_function  *\n        return step_function(self, iterator)\n    File \"c:\\Users\\oem\\anaconda3\\lib\\site-packages\\keras\\engine\\training.py\", line 1010, in step_function  **\n        outputs = model.distribute_strategy.run(run_step, args=(data,))\n    File \"c:\\Users\\oem\\anaconda3\\lib\\site-packages\\keras\\engine\\training.py\", line 1000, in run_step  **\n        outputs = model.train_step(data)\n    File \"c:\\Users\\oem\\anaconda3\\lib\\site-packages\\keras\\engine\\training.py\", line 859, in train_step\n        y_pred = self(x, training=True)\n    File \"c:\\Users\\oem\\anaconda3\\lib\\site-packages\\keras\\utils\\traceback_utils.py\", line 67, in error_handler\n        raise e.with_traceback(filtered_tb) from None\n    File \"c:\\Users\\oem\\anaconda3\\lib\\site-packages\\keras\\engine\\input_spec.py\", line 264, in assert_input_compatibility\n        raise ValueError(f'Input {input_index} of layer \"{layer_name}\" is '\n\n    ValueError: Input 0 of layer \"sequential_1\" is incompatible with the layer: expected shape=(None, 30, 257), found shape=(None, 32, 32, 3)\n",
     "output_type": "error",
     "traceback": [
      "\u001b[1;31m---------------------------------------------------------------------------\u001b[0m",
      "\u001b[1;31mValueError\u001b[0m                                Traceback (most recent call last)",
      "Cell \u001b[1;32mIn[6], line 4\u001b[0m\n\u001b[0;32m      1\u001b[0m \u001b[38;5;28;01mimport\u001b[39;00m \u001b[38;5;21;01mmatplotlib\u001b[39;00m\u001b[38;5;21;01m.\u001b[39;00m\u001b[38;5;21;01mpyplot\u001b[39;00m \u001b[38;5;28;01mas\u001b[39;00m \u001b[38;5;21;01mplt\u001b[39;00m\n\u001b[0;32m      3\u001b[0m \u001b[38;5;66;03m# 학습\u001b[39;00m\n\u001b[1;32m----> 4\u001b[0m history \u001b[38;5;241m=\u001b[39m \u001b[43mmodel\u001b[49m\u001b[38;5;241;43m.\u001b[39;49m\u001b[43mfit\u001b[49m\u001b[43m(\u001b[49m\u001b[43mtrain_dataset\u001b[49m\u001b[43m,\u001b[49m\u001b[43m \u001b[49m\u001b[43mepochs\u001b[49m\u001b[38;5;241;43m=\u001b[39;49m\u001b[38;5;241;43m350\u001b[39;49m\u001b[43m,\u001b[49m\u001b[43m \u001b[49m\u001b[43mvalidation_data\u001b[49m\u001b[38;5;241;43m=\u001b[39;49m\u001b[43mtest_dataset\u001b[49m\u001b[43m)\u001b[49m\n\u001b[0;32m      5\u001b[0m \u001b[38;5;66;03m# fn.noti_print(f'학습 종료됨')\u001b[39;00m\n\u001b[0;32m      6\u001b[0m \n\u001b[0;32m      7\u001b[0m \u001b[38;5;66;03m# 모델 요약\u001b[39;00m\n\u001b[0;32m      8\u001b[0m model\u001b[38;5;241m.\u001b[39msummary()\n",
      "File \u001b[1;32mc:\\Users\\oem\\anaconda3\\lib\\site-packages\\keras\\utils\\traceback_utils.py:67\u001b[0m, in \u001b[0;36mfilter_traceback.<locals>.error_handler\u001b[1;34m(*args, **kwargs)\u001b[0m\n\u001b[0;32m     65\u001b[0m \u001b[38;5;28;01mexcept\u001b[39;00m \u001b[38;5;167;01mException\u001b[39;00m \u001b[38;5;28;01mas\u001b[39;00m e:  \u001b[38;5;66;03m# pylint: disable=broad-except\u001b[39;00m\n\u001b[0;32m     66\u001b[0m   filtered_tb \u001b[38;5;241m=\u001b[39m _process_traceback_frames(e\u001b[38;5;241m.\u001b[39m__traceback__)\n\u001b[1;32m---> 67\u001b[0m   \u001b[38;5;28;01mraise\u001b[39;00m e\u001b[38;5;241m.\u001b[39mwith_traceback(filtered_tb) \u001b[38;5;28;01mfrom\u001b[39;00m \u001b[38;5;28;01mNone\u001b[39;00m\n\u001b[0;32m     68\u001b[0m \u001b[38;5;28;01mfinally\u001b[39;00m:\n\u001b[0;32m     69\u001b[0m   \u001b[38;5;28;01mdel\u001b[39;00m filtered_tb\n",
      "File \u001b[1;32mc:\\Users\\oem\\anaconda3\\lib\\site-packages\\tensorflow\\python\\framework\\func_graph.py:1147\u001b[0m, in \u001b[0;36mfunc_graph_from_py_func.<locals>.autograph_handler\u001b[1;34m(*args, **kwargs)\u001b[0m\n\u001b[0;32m   1145\u001b[0m \u001b[38;5;28;01mexcept\u001b[39;00m \u001b[38;5;167;01mException\u001b[39;00m \u001b[38;5;28;01mas\u001b[39;00m e:  \u001b[38;5;66;03m# pylint:disable=broad-except\u001b[39;00m\n\u001b[0;32m   1146\u001b[0m   \u001b[38;5;28;01mif\u001b[39;00m \u001b[38;5;28mhasattr\u001b[39m(e, \u001b[38;5;124m\"\u001b[39m\u001b[38;5;124mag_error_metadata\u001b[39m\u001b[38;5;124m\"\u001b[39m):\n\u001b[1;32m-> 1147\u001b[0m     \u001b[38;5;28;01mraise\u001b[39;00m e\u001b[38;5;241m.\u001b[39mag_error_metadata\u001b[38;5;241m.\u001b[39mto_exception(e)\n\u001b[0;32m   1148\u001b[0m   \u001b[38;5;28;01melse\u001b[39;00m:\n\u001b[0;32m   1149\u001b[0m     \u001b[38;5;28;01mraise\u001b[39;00m\n",
      "\u001b[1;31mValueError\u001b[0m: in user code:\n\n    File \"c:\\Users\\oem\\anaconda3\\lib\\site-packages\\keras\\engine\\training.py\", line 1021, in train_function  *\n        return step_function(self, iterator)\n    File \"c:\\Users\\oem\\anaconda3\\lib\\site-packages\\keras\\engine\\training.py\", line 1010, in step_function  **\n        outputs = model.distribute_strategy.run(run_step, args=(data,))\n    File \"c:\\Users\\oem\\anaconda3\\lib\\site-packages\\keras\\engine\\training.py\", line 1000, in run_step  **\n        outputs = model.train_step(data)\n    File \"c:\\Users\\oem\\anaconda3\\lib\\site-packages\\keras\\engine\\training.py\", line 859, in train_step\n        y_pred = self(x, training=True)\n    File \"c:\\Users\\oem\\anaconda3\\lib\\site-packages\\keras\\utils\\traceback_utils.py\", line 67, in error_handler\n        raise e.with_traceback(filtered_tb) from None\n    File \"c:\\Users\\oem\\anaconda3\\lib\\site-packages\\keras\\engine\\input_spec.py\", line 264, in assert_input_compatibility\n        raise ValueError(f'Input {input_index} of layer \"{layer_name}\" is '\n\n    ValueError: Input 0 of layer \"sequential_1\" is incompatible with the layer: expected shape=(None, 30, 257), found shape=(None, 32, 32, 3)\n"
     ]
    }
   ],
   "source": [
    "import matplotlib.pyplot as plt\n",
    "\n",
    "# 학습\n",
    "history = model.fit(train_dataset, epochs=350, validation_data=test_dataset)\n",
    "# fn.noti_print(f'학습 종료됨')\n",
    "\n",
    "# 모델 요약\n",
    "model.summary()"
   ]
  },
  {
   "cell_type": "code",
   "execution_count": 20,
   "metadata": {},
   "outputs": [
    {
     "name": "stdout",
     "output_type": "stream",
     "text": [
      "Model: \"sequential_3\"\n",
      "_________________________________________________________________\n",
      " Layer (type)                Output Shape              Param #   \n",
      "=================================================================\n",
      " lstm_3 (LSTM)               (None, 30, 512)           1576960   \n",
      "                                                                 \n",
      " dropout_3 (Dropout)         (None, 30, 512)           0         \n",
      "                                                                 \n",
      " lstm_4 (LSTM)               (None, 512)               2099200   \n",
      "                                                                 \n",
      " dropout_4 (Dropout)         (None, 512)               0         \n",
      "                                                                 \n",
      " dense_3 (Dense)             (None, 256)               131328    \n",
      "                                                                 \n",
      " dropout_5 (Dropout)         (None, 256)               0         \n",
      "                                                                 \n",
      " dense_4 (Dense)             (None, 1990)              511430    \n",
      "                                                                 \n",
      "=================================================================\n",
      "Total params: 4,318,918\n",
      "Trainable params: 4,318,918\n",
      "Non-trainable params: 0\n",
      "_________________________________________________________________\n"
     ]
    }
   ],
   "source": [
    "model.summary()"
   ]
  },
  {
   "cell_type": "code",
   "execution_count": 9,
   "metadata": {},
   "outputs": [
    {
     "data": {
      "image/png": "[encoded data removed]",
      "text/plain": [
       "<Figure size 1000x500 with 2 Axes>"
      ]
     },
     "metadata": {},
     "output_type": "display_data"
    }
   ],
   "source": [
    "train_loss = history.history['loss']\n",
    "val_loss = history.history['val_loss']\n",
    "train_acc = history.history.get('accuracy') or history.history.get('acc')  \n",
    "val_acc = history.history.get('val_accuracy') or history.history.get('val_acc')  \n",
    "\n",
    "# 손실 그래프 그리기\n",
    "plt.figure(figsize=(10, 5))\n",
    "plt.subplot(1, 2, 1)\n",
    "plt.plot(train_loss, label='Training Loss')\n",
    "plt.plot(val_loss, label='Validation Loss')\n",
    "plt.xlabel('Epochs')\n",
    "plt.ylabel('Loss')\n",
    "plt.legend()\n",
    "plt.title('Training and Validation Loss')\n",
    "\n",
    "# 정확도 그래프 그리기\n",
    "plt.subplot(1, 2, 2)\n",
    "plt.plot(train_acc, label='Training Accuracy')\n",
    "plt.plot(val_acc, label='Validation Accuracy')\n",
    "plt.xlabel('Epochs')\n",
    "plt.ylabel('Accuracy')\n",
    "plt.legend()\n",
    "plt.title('Training and Validation Accuracy')\n",
    "\n",
    "plt.tight_layout()\n",
    "plt.show()"
   ]
  }
 ],
 "metadata": {
  "kernelspec": {
   "display_name": "base",
   "language": "python",
   "name": "python3"
  },
  "language_info": {
   "codemirror_mode": {
    "name": "ipython",
    "version": 3
   },
   "file_extension": ".py",
   "mimetype": "text/x-python",
   "name": "python",
   "nbconvert_exporter": "python",
   "pygments_lexer": "ipython3",
   "version": "3.10.13"
  }
 },
 "nbformat": 4,
 "nbformat_minor": 2
}
